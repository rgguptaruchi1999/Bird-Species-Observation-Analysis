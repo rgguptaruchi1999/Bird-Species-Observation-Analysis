{
  "nbformat": 4,
  "nbformat_minor": 0,
  "metadata": {
    "colab": {
      "private_outputs": true,
      "provenance": [],
      "collapsed_sections": [
        "vncDsAP0Gaoa",
        "FJNUwmbgGyua",
        "w6K7xa23Elo4",
        "yQaldy8SH6Dl",
        "PH-0ReGfmX4f",
        "mDgbUHAGgjLW",
        "O_i_v8NEhb9l",
        "HhfV-JJviCcP",
        "Y3lxredqlCYt",
        "3RnN4peoiCZX",
        "x71ZqKXriCWQ",
        "7hBIi_osiCS2",
        "JlHwYmJAmNHm",
        "35m5QtbWiB9F",
        "PoPl-ycgm1ru",
        "H0kj-8xxnORC",
        "nA9Y7ga8ng1Z",
        "PBTbrJXOngz2",
        "u3PMJOP6ngxN",
        "dauF4eBmngu3",
        "bKJF3rekwFvQ",
        "MSa1f5Uengrz",
        "GF8Ens_Soomf",
        "0wOQAZs5pc--",
        "K5QZ13OEpz2H",
        "lQ7QKXXCp7Bj",
        "448CDAPjqfQr",
        "KSlN3yHqYklG",
        "t6dVpIINYklI",
        "ijmpgYnKYklI",
        "-JiQyfWJYklI",
        "EM7whBJCYoAo",
        "fge-S5ZAYoAp",
        "85gYPyotYoAp",
        "RoGjAbkUYoAp",
        "4Of9eVA-YrdM",
        "iky9q4vBYrdO",
        "F6T5p64dYrdO",
        "y-Ehk30pYrdP",
        "bamQiAODYuh1",
        "QHF8YVU7Yuh3",
        "GwzvFGzlYuh3",
        "qYpmQ266Yuh3",
        "OH-pJp9IphqM",
        "bbFf2-_FphqN",
        "_ouA3fa0phqN",
        "Seke61FWphqN",
        "PIIx-8_IphqN",
        "t27r6nlMphqO",
        "r2jJGEOYphqO",
        "b0JNsNcRphqO",
        "BZR9WyysphqO",
        "jj7wYXLtphqO",
        "eZrbJ2SmphqO",
        "rFu4xreNphqO",
        "YJ55k-q6phqO",
        "gCFgpxoyphqP",
        "OVtJsKN_phqQ",
        "lssrdh5qphqQ",
        "U2RJ9gkRphqQ",
        "1M8mcRywphqQ",
        "tgIPom80phqQ",
        "JMzcOPDDphqR",
        "x-EpHcCOp1ci",
        "X_VqEhTip1ck",
        "8zGJKyg5p1ck",
        "PVzmfK_Ep1ck",
        "n3dbpmDWp1ck",
        "ylSl6qgtp1ck",
        "ZWILFDl5p1ck",
        "M7G43BXep1ck",
        "Ag9LCva-p1cl",
        "E6MkPsBcp1cl",
        "2cELzS2fp1cl",
        "3MPXvC8up1cl",
        "NC_X3p0fY2L0",
        "UV0SzAkaZNRQ",
        "YPEH6qLeZNRQ",
        "q29F0dvdveiT",
        "EXh0U9oCveiU",
        "22aHeOlLveiV",
        "JcMwzZxoAimU",
        "8G2x9gOozGDZ",
        "gCX9965dhzqZ",
        "gIfDvo9L0UH2"
      ]
    },
    "kernelspec": {
      "name": "python3",
      "display_name": "Python 3"
    },
    "language_info": {
      "name": "python"
    }
  },
  "cells": [
    {
      "cell_type": "markdown",
      "source": [
        "# **Project Name**    -  **Bird Species Observation Analysis**\n",
        "\n",
        "\n",
        "\n"
      ],
      "metadata": {
        "id": "vncDsAP0Gaoa"
      }
    },
    {
      "cell_type": "markdown",
      "source": [
        "##### **Project Type**    - Bird Species Observation Analysis\n",
        "##### **Contribution**    - Individual/Team\n",
        "##### **Team Member 1 -**  - Individual\n"
      ],
      "metadata": {
        "id": "beRrZCGUAJYm"
      }
    },
    {
      "cell_type": "markdown",
      "source": [
        "# **Project Summary -**"
      ],
      "metadata": {
        "id": "FJNUwmbgGyua"
      }
    },
    {
      "cell_type": "markdown",
      "source": [
        "This project is dedicated to conducting a comprehensive analysis of a dataset containing observations of various bird species. The primary objective is to explore and understand the ecological patterns and trends within the observed bird populations. This involves investigating the spatial and temporal distribution of different species, identifying their preferred habitats, and potentially analyzing behavioral aspects captured in the data. The insights gained from this analysis can contribute to a better understanding of local biodiversity, inform conservation initiatives, and support ecological research. The project will utilize data visualization and statistical techniques to uncover meaningful patterns and communicate the findings effectively.\n",
        "\n",
        "\n",
        "\n"
      ],
      "metadata": {
        "id": "F6v_1wHtG2nS"
      }
    },
    {
      "cell_type": "markdown",
      "source": [
        "# **GitHub Link -**"
      ],
      "metadata": {
        "id": "w6K7xa23Elo4"
      }
    },
    {
      "cell_type": "markdown",
      "source": [
        "Provide your GitHub Link here."
      ],
      "metadata": {
        "id": "h1o69JH3Eqqn"
      }
    },
    {
      "cell_type": "markdown",
      "source": [
        "# **Problem Statement**\n"
      ],
      "metadata": {
        "id": "yQaldy8SH6Dl"
      }
    },
    {
      "cell_type": "markdown",
      "source": [
        "The project aims to analyze the distribution and diversity of bird species in two distinct ecosystems: forests and grasslands. By examining bird species observations across these habitats, the goal is to understand how environmental factors, such as vegetation type, climate, and terrain, influence bird populations and their behavior. The study will involve working on the provided observational data of bird species present in both ecosystems, identifying patterns of habitat preference, and assessing the impact of these habitats on bird diversity. The findings can provide valuable insights into habitat conservation, biodiversity management, and the effects of environmental changes on avian communities.\n",
        "\n",
        "To analyze bird species observation data to understand the distribution, diversity, and habitat preferences of bird species in forest and grassland ecosystems, and to assess the impact of environmental factors on avian communities. The insights gained will be used to inform habitat conservation and biodiversity management strategies.\n"
      ],
      "metadata": {
        "id": "DpeJGUA3kjGy"
      }
    },
    {
      "cell_type": "markdown",
      "source": [
        "#### **Define Your Business Objective?**"
      ],
      "metadata": {
        "id": "PH-0ReGfmX4f"
      }
    },
    {
      "cell_type": "markdown",
      "source": [
        "**Wildlife Conservation**: Inform decisions on protecting critical bird\n",
        "habitats and enhancing biodiversity conservation efforts.\n",
        "**Land Management**: Optimize land use and habitat restoration strategies by understanding the preferences of different bird species.\n",
        "**Eco-Tourism**: Identify bird-rich areas to develop bird-watching tourism, attracting eco-tourists and boosting local economies.\n",
        "**Sustainable Agriculture**: Support the development of agricultural practices that minimize the impact on bird populations in grasslands and forests.\n",
        "**Policy Support**: Provide data-driven insights to help environmental agencies create effective conservation policies and strategies for vulnerable bird species.\n",
        "**Biodiversity Monitoring**: Track the health and diversity of avian populations, aiding in the monitoring of ecosystem stability."
      ],
      "metadata": {
        "id": "PhDvGCAqmjP1"
      }
    },
    {
      "cell_type": "markdown",
      "source": [
        "# ***Let's Begin !***"
      ],
      "metadata": {
        "id": "O_i_v8NEhb9l"
      }
    },
    {
      "cell_type": "markdown",
      "source": [
        "## ***1. Know Your Data***"
      ],
      "metadata": {
        "id": "HhfV-JJviCcP"
      }
    },
    {
      "cell_type": "markdown",
      "source": [
        "### Import Libraries"
      ],
      "metadata": {
        "id": "Y3lxredqlCYt"
      }
    },
    {
      "cell_type": "code",
      "source": [
        "# Import Libraries\n",
        "import pandas as pd\n",
        "import numpy as np\n",
        "import matplotlib.pyplot as plt\n",
        "import seaborn as sns"
      ],
      "metadata": {
        "id": "M8Vqi-pPk-HR"
      },
      "execution_count": null,
      "outputs": []
    },
    {
      "cell_type": "markdown",
      "source": [
        "### Dataset Loading"
      ],
      "metadata": {
        "id": "3RnN4peoiCZX"
      }
    },
    {
      "cell_type": "code",
      "source": [
        "# Load Dataset 1st\n",
        "# Replace 'your_dataset_path.csv' with the actual path to your dataset file\n",
        "# For example: '/content/bird_observations.csv'\n",
        "df = pd.read_excel('/content/Bird_Monitoring_Data_FOREST_Filled.xlsx')"
      ],
      "metadata": {
        "id": "qOh-fDciQCyX"
      },
      "execution_count": null,
      "outputs": []
    },
    {
      "cell_type": "code",
      "source": [
        "# Dataset First Look\n",
        "display(df.head())"
      ],
      "metadata": {
        "collapsed": true,
        "id": "LY3QmJzmQk5J"
      },
      "execution_count": null,
      "outputs": []
    },
    {
      "cell_type": "code",
      "source": [
        "# Dataset Rows & Columns count\n",
        "print(\"Number of rows:\", df.shape[0])\n",
        "print(\"Number of columns:\", df.shape[1])"
      ],
      "metadata": {
        "collapsed": true,
        "id": "8GpJpef1Q3HV"
      },
      "execution_count": null,
      "outputs": []
    },
    {
      "cell_type": "code",
      "source": [
        "# Dataset Info\n",
        "display(df.info())"
      ],
      "metadata": {
        "collapsed": true,
        "id": "rI52XbPbRJJd"
      },
      "execution_count": null,
      "outputs": []
    },
    {
      "cell_type": "code",
      "source": [
        "# Dataset Duplicate Value Count\n",
        "duplicate_count = df.duplicated().sum()\n",
        "print(\"Number of duplicate rows:\", duplicate_count)"
      ],
      "metadata": {
        "collapsed": true,
        "id": "S1SC7PmHRr3T"
      },
      "execution_count": null,
      "outputs": []
    },
    {
      "cell_type": "markdown",
      "source": [
        "Now that we have the list of columns, let's get a statistical summary of the dataset to understand the distribution of numerical features.\n",
        "\n",
        "We've seen the statistical summary. Now, let's check the unique values for each variable to understand the distinct categories or values present in each column.\n",
        "\n",
        "We have now explored the variables in your dataset. The next step is data wrangling, where you can clean and transform the data to prepare it for analysis."
      ],
      "metadata": {
        "id": "XpSaDOBSW_-f"
      }
    },
    {
      "cell_type": "code",
      "source": [
        "# Visualizing the missing values\n",
        "sns.heatmap(df.isnull(), cbar=False)\n",
        "plt.title('Missing Values Heatmap')\n",
        "plt.show()"
      ],
      "metadata": {
        "collapsed": true,
        "id": "cQ4J93JZTKfK"
      },
      "execution_count": null,
      "outputs": []
    },
    {
      "cell_type": "code",
      "source": [
        "# Dataset Columns\n",
        "print(df.columns)"
      ],
      "metadata": {
        "collapsed": true,
        "id": "l0KTh9WuTQ11"
      },
      "execution_count": null,
      "outputs": []
    },
    {
      "cell_type": "code",
      "source": [
        "# Dataset Describe\n",
        "display(df.describe())"
      ],
      "metadata": {
        "collapsed": true,
        "id": "M84Ed-xnTWHf"
      },
      "execution_count": null,
      "outputs": []
    },
    {
      "cell_type": "code",
      "source": [
        "# Check Unique Values for each variable.\n",
        "for col in df.columns:\n",
        "    print(f\"Column: {col}\")\n",
        "    print(df[col].unique()[:20]) # Displaying up to 20 unique values to avoid flooding the output\n",
        "    print(\"-\" * 30)"
      ],
      "metadata": {
        "collapsed": true,
        "id": "3oVfDGufTeo8"
      },
      "execution_count": null,
      "outputs": []
    },
    {
      "cell_type": "code",
      "source": [
        "# Load Dataset 2nd\n",
        "df_grassland = pd.read_excel('/content/Bird_Monitoring_Data_GRASSLAND_Filled_All_Missing_NA.xlsx')"
      ],
      "metadata": {
        "id": "q5_ft3RTURFF"
      },
      "execution_count": null,
      "outputs": []
    },
    {
      "cell_type": "code",
      "source": [
        "# Dataset First Look - Grassland\n",
        "display(df_grassland.head())"
      ],
      "metadata": {
        "collapsed": true,
        "id": "DDIHYvf4UagI"
      },
      "execution_count": null,
      "outputs": []
    },
    {
      "cell_type": "markdown",
      "source": [
        " a look at the first few rows of the df_grassland dataset.\n",
        "\n",
        "Now that we have loaded both datasets and taken a first look at the grassland data, a good next step would be to combine the two datasets so we can analyze and compare bird observations across both forest and grassland ecosystems."
      ],
      "metadata": {
        "id": "j7inSprAWj8Y"
      }
    },
    {
      "cell_type": "code",
      "source": [
        "# Dataset Rows & Columns count - Grassland\n",
        "print(\"Number of rows:\", df_grassland.shape[0])\n",
        "print(\"Number of columns:\", df_grassland.shape[1])"
      ],
      "metadata": {
        "id": "IEnpEFA_Uac0"
      },
      "execution_count": null,
      "outputs": []
    },
    {
      "cell_type": "markdown",
      "source": [
        "check the number of rows and columns in the grassland dataset.\n",
        "\n",
        "We have loaded and performed initial checks on both the forest and grassland datasets. To analyze them together as per your project objective, the next step is to combine these two datasets into a single DataFrame."
      ],
      "metadata": {
        "id": "FjR3OEuWWbrZ"
      }
    },
    {
      "cell_type": "code",
      "source": [
        "# Dataset Info - Grassland\n",
        "display(df_grassland.info())"
      ],
      "metadata": {
        "collapsed": true,
        "id": "lbHcdt92UaXQ"
      },
      "execution_count": null,
      "outputs": []
    },
    {
      "cell_type": "markdown",
      "source": [
        "the information about the grassland dataset, including data types and non-null counts.\n",
        "\n",
        "We've explored both datasets individually. To proceed with analyzing and comparing the bird species in forest and grassland environments, the next step is to combine these datasets into a single DataFrame. This will make it easier to perform comparative analysis and visualizations."
      ],
      "metadata": {
        "id": "Zr4V8UZjWVS4"
      }
    },
    {
      "cell_type": "code",
      "source": [
        "# Dataset Duplicate Value Count - Grassland\n",
        "duplicate_count_grassland = df_grassland.duplicated().sum()\n",
        "print(\"Number of duplicate rows in grassland dataset:\", duplicate_count_grassland)"
      ],
      "metadata": {
        "id": "Cq0vDMbKUaBo"
      },
      "execution_count": null,
      "outputs": []
    },
    {
      "cell_type": "markdown",
      "source": [
        "check for duplicate values in the grassland dataset.\n",
        "\n",
        "We've checked for duplicates in both datasets. To analyze and compare the bird species in forest and grassland environments effectively, combining these datasets into a single DataFrame is the next crucial step. This will allow us to perform unified data wrangling and visualization."
      ],
      "metadata": {
        "id": "SLMuQhLQWM4N"
      }
    },
    {
      "cell_type": "code",
      "source": [
        "# Visualizing the missing values - Grassland\n",
        "sns.heatmap(df_grassland.isnull(), cbar=False)\n",
        "plt.title('Missing Values Heatmap - Grassland')\n",
        "plt.show()"
      ],
      "metadata": {
        "collapsed": true,
        "id": "p5gqys_gVh_C"
      },
      "execution_count": null,
      "outputs": []
    },
    {
      "cell_type": "markdown",
      "source": [
        "visualize the missing values in the grassland dataset using a heatmap.\n",
        "\n",
        "We have now performed initial inspections and checked for missing values in both datasets. To analyze the bird species across both forest and grassland ecosystems together, the next logical step is to combine these two datasets into a single DataFrame. This will streamline the data wrangling and visualization process for comparative analysis\n",
        "\n",
        "\n"
      ],
      "metadata": {
        "id": "e8hBwwzPV34z"
      }
    },
    {
      "cell_type": "code",
      "source": [
        "# Dataset Columns\n",
        "print(df.columns)"
      ],
      "metadata": {
        "collapsed": true,
        "id": "6yCmhRXXVhvH"
      },
      "execution_count": null,
      "outputs": []
    },
    {
      "cell_type": "code",
      "source": [
        "# Dataset Describe\n",
        "display(df.describe())"
      ],
      "metadata": {
        "collapsed": true,
        "id": "IHEtBJXkVhrj"
      },
      "execution_count": null,
      "outputs": []
    },
    {
      "cell_type": "code",
      "source": [
        "# Check Unique Values for each variable.\n",
        "for col in df.columns:\n",
        "    print(f\"Column: {col}\")\n",
        "    print(df[col].unique()[:20]) # Displaying up to 20 unique values to avoid flooding the output\n",
        "    print(\"-\" * 30)"
      ],
      "metadata": {
        "collapsed": true,
        "id": "oRIjho22ZFEQ"
      },
      "execution_count": null,
      "outputs": []
    },
    {
      "cell_type": "markdown",
      "source": [
        "### Dataset First View"
      ],
      "metadata": {
        "id": "x71ZqKXriCWQ"
      }
    },
    {
      "cell_type": "code",
      "source": [
        "# Dataset First Look\n",
        "df_combined = pd.concat([df, df_grassland], ignore_index=True)\n",
        "display(df_combined.head())\n",
        "print(\"Shape of combined dataframe:\", df_combined.shape)"
      ],
      "metadata": {
        "id": "LWNFOSvLl09H",
        "collapsed": true
      },
      "execution_count": null,
      "outputs": []
    },
    {
      "cell_type": "markdown",
      "source": [
        "### Dataset Rows & Columns count"
      ],
      "metadata": {
        "id": "7hBIi_osiCS2"
      }
    },
    {
      "cell_type": "markdown",
      "metadata": {
        "id": "d8b7891e"
      },
      "source": [
        "# Task\n",
        "Perform data wrangling on the provided bird observation datasets \"Bird_Monitoring_Data_FOREST_Filled.xlsx\" and \"/content/Bird_Monitoring_Data_GRASSLAND_Filled_All_Missing_NA.xlsx\" by combining them, handling missing values in 'Sub_Unit_Code', 'Distance', 'Sex', and 'AcceptedTSN', and addressing duplicate rows."
      ]
    },
    {
      "cell_type": "markdown",
      "metadata": {
        "id": "3366f360"
      },
      "source": [
        "## Combine datasets\n",
        "\n",
        "### Subtask:\n",
        "\n"
      ]
    },
    {
      "cell_type": "code",
      "source": [
        "# Concatenate the 'df' (forest) and 'df_grassland' DataFrames\n",
        "df_combined = pd.concat([df, df_grassland], ignore_index=True)\n",
        "\n",
        "# Display the first few rows of the combined DataFrame\n",
        "display(df_combined.head())\n",
        "\n",
        "# Print the shape of the combined DataFrame\n",
        "print(\"Shape of combined dataframe:\", df_combined.shape)"
      ],
      "metadata": {
        "collapsed": true,
        "id": "C3F8i4pHb-3t"
      },
      "execution_count": null,
      "outputs": []
    },
    {
      "cell_type": "code",
      "source": [
        "# Calculate the percentage of missing values for the specified columns\n",
        "missing_percentage = df_combined[['Sub_Unit_Code', 'Distance', 'Sex', 'AcceptedTSN']].isnull().mean() * 100\n",
        "print(\"Percentage of missing values:\\n\", missing_percentage)"
      ],
      "metadata": {
        "collapsed": true,
        "id": "iu5tIgOOcv3b"
      },
      "execution_count": null,
      "outputs": []
    },
    {
      "cell_type": "markdown",
      "source": [
        "## Data cleaning/transformation (optional)\n",
        "\n",
        "### Subtask:\n",
        "Perform any other necessary cleaning or transformations, such as converting data types, renaming columns, or creating new features, based on the analysis plan.\n"
      ],
      "metadata": {
        "id": "Ov2zcgLwtKD-"
      }
    },
    {
      "cell_type": "markdown",
      "source": [
        "**Reasoning**:\n",
        "Inspect the data types and convert 'Start_Time' and 'End_Time' to datetime objects to prepare for time-based analysis. Then, calculate the observation duration and extract the hour of the day from start and end times.\n"
      ],
      "metadata": {
        "id": "CpHtY06PtbDM"
      }
    },
    {
      "cell_type": "code",
      "source": [
        "# Inspect data types\n",
        "print(\"Data types before conversion:\")\n",
        "print(df_combined.dtypes)\n",
        "\n",
        "# Convert 'Start_Time' and 'End_Time' to datetime objects\n",
        "# Using errors='coerce' to turn invalid parsing into NaT\n",
        "df_combined['Start_Time'] = pd.to_datetime(df_combined['Start_Time'], errors='coerce')\n",
        "df_combined['End_Time'] = pd.to_datetime(df_combined['End_Time'], errors='coerce')\n",
        "\n",
        "# Create 'Observation_Duration' column\n",
        "# Only calculate duration for valid datetime entries\n",
        "df_combined['Observation_Duration'] = (df_combined['End_Time'] - df_combined['Start_Time']).dt.total_seconds() / 60\n",
        "\n",
        "# Extract hour of the day\n",
        "df_combined['Start_Hour'] = df_combined['Start_Time'].dt.hour\n",
        "df_combined['End_Hour'] = df_combined['End_Time'].dt.hour\n",
        "\n",
        "# Inspect data types after conversion and show new columns\n",
        "print(\"\\nData types after conversion:\")\n",
        "print(df_combined[['Start_Time', 'End_Time', 'Observation_Duration', 'Start_Hour', 'End_Hour']].dtypes)\n",
        "display(df_combined[['Start_Time', 'End_Time', 'Observation_Duration', 'Start_Hour', 'End_Hour']].head())"
      ],
      "metadata": {
        "collapsed": true,
        "id": "EyZT_eMTtcZq"
      },
      "execution_count": null,
      "outputs": []
    },
    {
      "cell_type": "markdown",
      "source": [
        "### Dataset Information"
      ],
      "metadata": {
        "id": "JlHwYmJAmNHm"
      }
    },
    {
      "cell_type": "code",
      "source": [
        "# Dataset Info\n",
        "display(df_combined.info())"
      ],
      "metadata": {
        "id": "e9hRXRi6meOf",
        "collapsed": true
      },
      "execution_count": null,
      "outputs": []
    },
    {
      "cell_type": "markdown",
      "source": [
        "#### Handle duplicate values\n",
        "\n",
        "### Subtask:\n",
        "Address the duplicate rows found in the combined dataset. This could involve removing duplicates if they represent identical records."
      ],
      "metadata": {
        "id": "35m5QtbWiB9F"
      }
    },
    {
      "cell_type": "markdown",
      "source": [
        "**Reasoning**:\n",
        "Check the number of duplicate rows in the combined dataset to understand the extent of duplication."
      ],
      "metadata": {
        "id": "PjZVN6iGoIGY"
      }
    },
    {
      "cell_type": "code",
      "source": [
        "# Check the number of duplicate rows in the combined dataset\n",
        "duplicate_rows_combined = df_combined.duplicated().sum()\n",
        "print(\"Number of duplicate rows in the combined dataset:\", duplicate_rows_combined)"
      ],
      "metadata": {
        "id": "1sLdpKYkmox0"
      },
      "execution_count": null,
      "outputs": []
    },
    {
      "cell_type": "markdown",
      "source": [
        "**Reasoning**:\n",
        "Remove the duplicate rows from the combined dataset and then verify that the duplicates have been removed."
      ],
      "metadata": {
        "id": "BFN8SKR0oY96"
      }
    },
    {
      "cell_type": "code",
      "source": [
        "# Remove duplicate rows from the combined dataset, keeping the first occurrence\n",
        "df_combined = df_combined.drop_duplicates(keep='first')\n",
        "\n",
        "# Verify that duplicate rows have been successfully removed\n",
        "duplicate_rows_after_removal = df_combined.duplicated().sum()\n",
        "print(\"Number of duplicate rows after removal:\", duplicate_rows_after_removal)"
      ],
      "metadata": {
        "id": "a8tHDJvooiEV"
      },
      "execution_count": null,
      "outputs": []
    },
    {
      "cell_type": "markdown",
      "source": [
        "#### Missing Values/Null Values"
      ],
      "metadata": {
        "id": "PoPl-ycgm1ru"
      }
    },
    {
      "cell_type": "markdown",
      "source": [
        "## Handle missing values\n",
        "\n",
        "### Subtask:\n",
        "Address the missing values identified in the 'Sub_Unit_Code', 'Distance', 'Sex', and 'AcceptedTSN' columns. This might involve imputation, removal, or other appropriate methods based on the nature of the data and analysis goals."
      ],
      "metadata": {
        "id": "xfSZTppZotte"
      }
    },
    {
      "cell_type": "markdown",
      "source": [
        "**Reasoning**:\n",
        "Calculate the percentage of missing values for the specified columns to inform handling strategies."
      ],
      "metadata": {
        "id": "LA9oc0bXowPZ"
      }
    },
    {
      "cell_type": "code",
      "source": [
        "# Missing Values/Null Values Count\n",
        "# Calculate the percentage of missing values for the specified columns\n",
        "missing_percentage = df_combined[['Distance', 'Sex', 'AcceptedTSN']].isnull().mean() * 100\n",
        "print(\"Percentage of missing values:\\n\", missing_percentage)"
      ],
      "metadata": {
        "id": "GgHWkxvamxVg",
        "collapsed": true
      },
      "execution_count": null,
      "outputs": []
    },
    {
      "cell_type": "code",
      "source": [
        "# Visualizing the missing values\n",
        "sns.heatmap(df_combined.isnull(), cbar=False)\n",
        "plt.title('Missing Values Heatmap - Combined Dataset')\n",
        "plt.show()"
      ],
      "metadata": {
        "id": "3q5wnI3om9sJ",
        "collapsed": true
      },
      "execution_count": null,
      "outputs": []
    },
    {
      "cell_type": "markdown",
      "source": [
        "### What did you know about your dataset?"
      ],
      "metadata": {
        "id": "H0kj-8xxnORC"
      }
    },
    {
      "cell_type": "markdown",
      "source": [
        "Based on the initial data loading and inspection:\n",
        "\n",
        "We loaded two datasets: one for forest bird observations (df) and one for grassland bird observations (df_grassland).\n",
        "The forest dataset initially had 333 rows and 29 columns.\n",
        "The grassland dataset initially had 3588 rows and 29 columns, with 458 duplicate rows identified.\n",
        "Both datasets contained similar columns related to bird observations, location, time, environmental conditions, and taxonomic information.\n",
        "Initial checks revealed missing values in columns like 'Sub_Unit_Code', 'Distance', 'Sex', and 'AcceptedTSN' in the forest dataset, and similar missing values along with others in the grassland dataset.\n",
        "We combined the two datasets into a single DataFrame df_combined, which initially had 3921 rows and 31 columns (before dropping 'Sub_Unit_Code').\n",
        "We addressed the missing values in 'Sub_Unit_Code' by dropping the column due to 100% missing values.\n",
        "We imputed missing values in 'Distance', 'Sex', and 'AcceptedTSN' in the combined dataset, and these columns now show no missing values.\n",
        "There are still missing values in 'Site_Name', 'ID_Method', 'NPSTaxonCode', 'TaxonCode', and 'Previously_Obs' in the combined dataset.\n",
        "We identified 458 duplicate rows in the initial combined dataset.\n",
        "This initial exploration and wrangling have prepared the data for further analysis and handling of the remaining missing values and duplicates."
      ],
      "metadata": {
        "id": "gfoNAAC-nUe_"
      }
    },
    {
      "cell_type": "markdown",
      "source": [
        "## ***2. Understanding Your Variables***"
      ],
      "metadata": {
        "id": "nA9Y7ga8ng1Z"
      }
    },
    {
      "cell_type": "code",
      "source": [
        "# Dataset Columns - Combined\n",
        "print(\"Columns in df_combined:\")\n",
        "print(df_combined.columns)"
      ],
      "metadata": {
        "id": "j7xfkqrt5Ag5",
        "collapsed": true
      },
      "execution_count": null,
      "outputs": []
    },
    {
      "cell_type": "code",
      "source": [
        "# Dataset Describe - Combined\n",
        "display(df_combined.describe())"
      ],
      "metadata": {
        "id": "DnOaZdaE5Q5t",
        "collapsed": true
      },
      "execution_count": null,
      "outputs": []
    },
    {
      "cell_type": "markdown",
      "source": [
        "### Variables Description"
      ],
      "metadata": {
        "id": "PBTbrJXOngz2"
      }
    },
    {
      "cell_type": "markdown",
      "source": [
        "Based on the combined dataset, here is a description of the key variables:\n",
        "\n",
        "Admin_Unit_Code, Site_Name, Plot_Name: These likely represent geographical or administrative units and specific observation sites/plots.\n",
        "Location_Type: Indicates whether the observation was in a 'Forest' or 'Grassland' ecosystem.\n",
        "Year, Date, Start_Time, End_Time: Provide temporal information about the observations.\n",
        "Observer: Identifies the person who made the observation.\n",
        "Visit: The visit number to a specific plot.\n",
        "Interval_Length: The duration of the observation interval.\n",
        "ID_Method: How the bird was identified (e.g., Singing, Calling, Visualization).\n",
        "Distance: The estimated distance to the bird.\n",
        "Flyover_Observed: Boolean indicating if a flyover was observed.\n",
        "Sex: The sex of the observed bird (can be missing or 'Undetermined').\n",
        "Common_Name, Scientific_Name, AOU_Code: Different identifiers for the bird species.\n",
        "AcceptedTSN, NPSTaxonCode, TaxonCode: Taxonomic codes for the species (some are missing in the combined dataset).\n",
        "PIF_Watchlist_Status, Regional_Stewardship_Status: Indicate conservation or stewardship status.\n",
        "Temperature, Humidity: Environmental conditions during the observation.\n",
        "Sky, Wind, Disturbance: Weather and environmental disturbance conditions.\n",
        "Initial_Three_Min_Cnt: Boolean indicating if the observation was made in the initial three minutes.\n",
        "Previously_Obs: Indicates if the bird was previously observed (missing in the forest data).\n",
        "You can add more specific details here after examining the unique values and distributions.\n",
        "\n"
      ],
      "metadata": {
        "id": "aJV4KIxSnxay"
      }
    },
    {
      "cell_type": "markdown",
      "source": [
        "### Check Unique Values for each variable."
      ],
      "metadata": {
        "id": "u3PMJOP6ngxN"
      }
    },
    {
      "cell_type": "code",
      "source": [
        "# Examine unique values in categorical columns\n",
        "categorical_cols = ['Interval_Length', 'ID_Method', 'Sky', 'Wind', 'Disturbance']\n",
        "for col in categorical_cols:\n",
        "    print(f\"Unique values in '{col}':\")\n",
        "    print(df_combined[col].unique())\n",
        "    print(\"-\" * 30)\n",
        "\n",
        "# Based on unique values and analysis plan, perform transformations if needed\n",
        "# For this dataset, the unique values look relatively clean and do not require complex transformations like one-hot encoding yet.\n",
        "# We can proceed with renaming columns for clarity.\n",
        "\n",
        "# Review and rename columns for clarity\n",
        "# For example, rename 'Initial_Three_Min_Cnt' to 'Initial_Three_Minute_Count' for better readability.\n",
        "df_combined.rename(columns={'Initial_Three_Min_Cnt': 'Initial_Three_Minute_Count'}, inplace=True)\n",
        "\n",
        "# Print updated columns to verify renaming\n",
        "print(\"\\nUpdated columns:\")\n",
        "print(df_combined.columns)"
      ],
      "metadata": {
        "id": "zms12Yq5n-jE"
      },
      "execution_count": null,
      "outputs": []
    },
    {
      "cell_type": "markdown",
      "source": [
        "## 3. ***Data Wrangling***"
      ],
      "metadata": {
        "id": "dauF4eBmngu3"
      }
    },
    {
      "cell_type": "markdown",
      "source": [
        "### Data Wrangling Code"
      ],
      "metadata": {
        "id": "bKJF3rekwFvQ"
      }
    },
    {
      "cell_type": "code",
      "source": [
        "# Combine the 'df' (forest) and 'df_grassland' DataFrames\n",
        "df_combined = pd.concat([df, df_grassland], ignore_index=True)\n",
        "\n",
        "# Drop 'Sub_Unit_Code' column (100% missing values)\n",
        "df_combined = df_combined.drop('Sub_Unit_Code', axis=1)\n",
        "\n",
        "# Impute missing values in 'Distance' with the mode\n",
        "mode_distance = df_combined['Distance'].mode()[0]\n",
        "df_combined['Distance'] = df_combined['Distance'].fillna(mode_distance)\n",
        "\n",
        "# Impute missing values in 'Sex' with the mode\n",
        "mode_sex = df_combined['Sex'].mode()[0]\n",
        "df_combined['Sex'] = df_combined['Sex'].fillna(mode_sex)\n",
        "\n",
        "# Impute missing values in 'AcceptedTSN' with 0\n",
        "df_combined['AcceptedTSN'] = df_combined['AcceptedTSN'].fillna(0)\n",
        "\n",
        "# Remove duplicate rows\n",
        "df_combined = df_combined.drop_duplicates(keep='first')\n",
        "\n",
        "# Convert 'Start_Time' and 'End_Time' to datetime objects\n",
        "# Using errors='coerce' to turn invalid parsing into NaT\n",
        "df_combined['Start_Time'] = pd.to_datetime(df_combined['Start_Time'], errors='coerce')\n",
        "df_combined['End_Time'] = pd.to_datetime(df_combined['End_Time'], errors='coerce')\n",
        "\n",
        "# Create 'Observation_Duration' column\n",
        "# Only calculate duration for valid datetime entries\n",
        "df_combined['Observation_Duration'] = (df_combined['End_Time'] - df_combined['Start_Time']).dt.total_seconds() / 60\n",
        "\n",
        "# Extract hour of the day\n",
        "df_combined['Start_Hour'] = df_combined['Start_Time'].dt.hour\n",
        "df_combined['End_Hour'] = df_combined['End_Time'].dt.hour\n",
        "\n",
        "# Display the first few rows and the shape of the cleaned dataset\n",
        "display(df_combined.head())\n",
        "print(\"Shape of cleaned dataframe:\", df_combined.shape)\n",
        "\n",
        "# Check remaining missing values\n",
        "print(\"\\nRemaining missing values:\\n\", df_combined.isnull().sum())"
      ],
      "metadata": {
        "id": "wk-9a2fpoLcV",
        "collapsed": true
      },
      "execution_count": null,
      "outputs": []
    },
    {
      "cell_type": "markdown",
      "source": [
        "### What all manipulations have you done and insights you found?"
      ],
      "metadata": {
        "id": "MSa1f5Uengrz"
      }
    },
    {
      "cell_type": "markdown",
      "source": [
        "Here are the data wrangling manipulations performed and the insights gained:Answer Here."
      ],
      "metadata": {
        "id": "LbyXE7I1olp8"
      }
    },
    {
      "cell_type": "markdown",
      "source": [
        "Manipulations Done:\n",
        "\n",
        "Combined Datasets: Concatenated the forest (df) and grassland (df_grassland) datasets into a single DataFrame (df_combined).\n",
        "Dropped 'Sub_Unit_Code': Removed the 'Sub_Unit_Code' column as it had 100% missing values.\n",
        "Imputed 'Distance': Filled missing values in the 'Distance' column with the mode.\n",
        "Imputed 'Sex': Filled missing values in the 'Sex' column with the mode.\n",
        "Imputed 'AcceptedTSN': Filled missing values in the 'AcceptedTSN' column with 0.\n",
        "Removed Duplicates: Dropped duplicate rows from the combined dataset, keeping the first occurrence.\n",
        "Insights Found:\n",
        "\n",
        "Combining the datasets created a unified view for analyzing bird observations across different ecosystems.\n",
        "The 'Sub_Unit_Code' column was entirely empty and could be safely removed.\n",
        "The missing values in 'Distance', 'Sex', and 'AcceptedTSN' were successfully handled through imputation based on common strategies for these data types.\n",
        "There were a significant number of duplicate rows (458) in the original combined dataset, which have now been removed, resulting in a cleaner dataset for analysis.\n",
        "However, there are still remaining missing values in 'Site_Name', 'ID_Method', 'NPSTaxonCode', 'TaxonCode', and 'Previously_Obs'. These will need to be addressed in further wrangling steps depending on the analysis requirements.\n"
      ],
      "metadata": {
        "id": "yMRy4WSNs4PL"
      }
    },
    {
      "cell_type": "markdown",
      "source": [
        "## ***4. Data Vizualization, Storytelling & Experimenting with charts : Understand the relationships between variables***"
      ],
      "metadata": {
        "id": "GF8Ens_Soomf"
      }
    },
    {
      "cell_type": "markdown",
      "source": [
        "#### Chart - 1"
      ],
      "metadata": {
        "id": "0wOQAZs5pc--"
      }
    },
    {
      "cell_type": "code",
      "source": [
        "# Chart - 1 visualization code\n",
        "plt.figure(figsize=(8, 6))\n",
        "sns.countplot(data=df_combined, x='Location_Type')\n",
        "plt.title('Distribution of Observations by Location Type')\n",
        "plt.xlabel('Location Type')\n",
        "plt.ylabel('Number of Observations')\n",
        "plt.show()"
      ],
      "metadata": {
        "id": "7v_ESjsspbW7",
        "collapsed": true
      },
      "execution_count": null,
      "outputs": []
    },
    {
      "cell_type": "markdown",
      "source": [
        "##### 1. Why did you pick the specific chart?"
      ],
      "metadata": {
        "id": "K5QZ13OEpz2H"
      }
    },
    {
      "cell_type": "markdown",
      "source": [
        "likely chose this chart because a count plot is an effective way to visualize the distribution of a categorical variable, like Location_Type. It clearly shows the number of observations within each category (Forest and Grassland), allowing for a quick comparison of how many observations were recorded in each ecosystem. This is a fundamental step in understanding your dataset, especially given your project's focus on comparing these two environments."
      ],
      "metadata": {
        "id": "XESiWehPqBRc"
      }
    },
    {
      "cell_type": "markdown",
      "source": [
        "##### 2. What is/are the insight(s) found from the chart?"
      ],
      "metadata": {
        "id": "lQ7QKXXCp7Bj"
      }
    },
    {
      "cell_type": "markdown",
      "source": [
        "From this chart, the main insight is the significant difference in the number of observations between the two location types. There are substantially more bird observations recorded in the Grassland locations compared to the Forest locations. This imbalance in the dataset is important to note for any subsequent analysis or comparisons between the two ecosystems."
      ],
      "metadata": {
        "id": "C_j1G7yiqdRP"
      }
    },
    {
      "cell_type": "markdown",
      "source": [
        "#### Chart - 2"
      ],
      "metadata": {
        "id": "KSlN3yHqYklG"
      }
    },
    {
      "cell_type": "code",
      "source": [
        "# Chart - 2 visualization code\n",
        "# Get top 10 most frequent species overall\n",
        "top_species = df_combined['Common_Name'].value_counts().nlargest(10).index.tolist()\n",
        "\n",
        "# Filter the combined dataframe to include only the top species\n",
        "df_top_species = df_combined[df_combined['Common_Name'].isin(top_species)]\n",
        "\n",
        "# Create a count plot of top species by location type\n",
        "plt.figure(figsize=(12, 8))\n",
        "sns.countplot(data=df_top_species, y='Common_Name', hue='Location_Type', order=top_species)\n",
        "plt.title('Top 10 Most Observed Bird Species by Location Type')\n",
        "plt.xlabel('Number of Observations')\n",
        "plt.ylabel('Bird Species (Common Name)')\n",
        "plt.legend(title='Location Type')\n",
        "plt.tight_layout()\n",
        "plt.show()"
      ],
      "metadata": {
        "id": "R4YgtaqtYklH",
        "collapsed": true
      },
      "execution_count": null,
      "outputs": []
    },
    {
      "cell_type": "markdown",
      "source": [
        "##### 1. Why did you pick the specific chart?"
      ],
      "metadata": {
        "id": "t6dVpIINYklI"
      }
    },
    {
      "cell_type": "markdown",
      "source": [
        "likely chose this chart to compare the frequency of the top bird species observed in each location type (Forest vs. Grassland). This helps to visualize if certain species are more prevalent in one habitat over the other, which can indicate habitat preferences and contribute to understanding bird distribution pattern"
      ],
      "metadata": {
        "id": "5aaW0BYyYklI"
      }
    },
    {
      "cell_type": "markdown",
      "source": [
        "##### 2. What is/are the insight(s) found from the chart?"
      ],
      "metadata": {
        "id": "ijmpgYnKYklI"
      }
    },
    {
      "cell_type": "markdown",
      "source": [
        "From this chart, a key insight is that the top 10 most observed bird species overall are predominantly observed in grassland locations in this dataset. For several species (like Field Sparrow and Grasshopper Sparrow), the number of observations in grasslands is significantly higher than in forests, suggesting a strong preference for grassland habitats among these common species. This aligns with the earlier observation that there are more total observations from grasslands.\n",
        "\n"
      ],
      "metadata": {
        "id": "PSx9atu2YklI"
      }
    },
    {
      "cell_type": "markdown",
      "source": [
        "#### Chart - 3"
      ],
      "metadata": {
        "id": "EM7whBJCYoAo"
      }
    },
    {
      "cell_type": "code",
      "source": [
        "# Chart - 3 visualization code\n",
        "plt.figure(figsize=(10, 6))\n",
        "sns.scatterplot(data=df_combined, x='Temperature', y='Visit', hue='Location_Type', alpha=0.6)\n",
        "plt.title('Bird Observations vs. Temperature by Location Type')\n",
        "plt.xlabel('Temperature (°C)')\n",
        "plt.ylabel('Visit Count')\n",
        "plt.grid(True)\n",
        "plt.show()"
      ],
      "metadata": {
        "id": "t6GMdE67YoAp",
        "collapsed": true
      },
      "execution_count": null,
      "outputs": []
    },
    {
      "cell_type": "markdown",
      "source": [
        "##### 1. Why did you pick the specific chart?"
      ],
      "metadata": {
        "id": "fge-S5ZAYoAp"
      }
    },
    {
      "cell_type": "markdown",
      "source": [
        "the relationship between temperature and the number of visits where birds were observed. Using a scatter plot is a good way to visualize the relationship between two numerical variables (Temperature and Visit Count). Adding hue='Location_Type' allows you to see if this relationship differs between forest and grassland areas, helping to understand if temperature plays a different role in observation activity in these two habitats."
      ],
      "metadata": {
        "id": "5dBItgRVYoAp"
      }
    },
    {
      "cell_type": "markdown",
      "source": [
        "##### 2. What is/are the insight(s) found from the chart?"
      ],
      "metadata": {
        "id": "85gYPyotYoAp"
      }
    },
    {
      "cell_type": "markdown",
      "source": [
        "From this chart, some observations are:\n",
        "\n",
        "Bird observations were recorded during visits 1, 2, and 3 across a range of temperatures.\n",
        "There isn't a strong, clear linear relationship between temperature and the visit count in this dataset; the observations are clustered by visit number regardless of the specific temperature within the observed range.\n",
        "The range of temperatures at which observations were made seems to differ slightly between Forest and Grassland locations.\n",
        "This suggests that while temperature is recorded, the Visit number might represent planned observation periods rather than a direct real-time response to temperature influencing the number of visits themselves. However, temperature could still influence the activity or presence of specific species within those visits, which isn't directly captured by this plot.\n",
        "\n"
      ],
      "metadata": {
        "id": "4jstXR6OYoAp"
      }
    },
    {
      "cell_type": "markdown",
      "source": [
        "#### Chart - 4"
      ],
      "metadata": {
        "id": "4Of9eVA-YrdM"
      }
    },
    {
      "cell_type": "code",
      "source": [
        "# Chart - 4 visualization code\n",
        "# Inspect data types\n",
        "print(\"Data types before conversion:\")\n",
        "print(df_combined[['Start_Time', 'End_Time']].dtypes)\n",
        "\n",
        "# Convert 'Start_Time' and 'End_Time' to datetime objects if they are not already\n",
        "# Assuming they are currently objects (strings or time objects)\n",
        "try:\n",
        "    df_combined['Start_Time'] = pd.to_datetime(df_combined['Start_Time'])\n",
        "    df_combined['End_Time'] = pd.to_datetime(df_combined['End_Time'])\n",
        "except Exception as e:\n",
        "    print(f\"Error converting time columns: {e}\")\n",
        "    print(\"Please ensure 'Start_Time' and 'End_Time' are in a recognizable time format.\")\n",
        "\n",
        "\n",
        "# Extract hour of the day\n",
        "df_combined['Start_Hour'] = df_combined['Start_Time'].dt.hour\n",
        "df_combined['End_Hour'] = df_combined['End_Time'].dt.hour\n",
        "\n",
        "# Chart - 4 visualization code: Distribution of Observations by Start Hour and Location Type\n",
        "plt.figure(figsize=(10, 6))\n",
        "sns.countplot(data=df_combined, x='Start_Hour', hue='Location_Type')\n",
        "plt.title('Distribution of Bird Observations by Start Hour and Location Type')\n",
        "plt.xlabel('Start Hour of Day')\n",
        "plt.ylabel('Number of Observations')\n",
        "plt.xticks(rotation=45)\n",
        "plt.tight_layout()\n",
        "plt.show()"
      ],
      "metadata": {
        "id": "irlUoxc8YrdO",
        "collapsed": true
      },
      "execution_count": null,
      "outputs": []
    },
    {
      "cell_type": "markdown",
      "source": [
        "##### 1. Why did you pick the specific chart?"
      ],
      "metadata": {
        "id": "iky9q4vBYrdO"
      }
    },
    {
      "cell_type": "markdown",
      "source": [
        "this chart to visualize the distribution of bird observations across different hours of the day and compare this pattern between forest and grassland locations. This helps to identify the times of day when bird observations are most frequent in each habitat, which can relate to bird activity patterns.\n",
        "\n",
        "Answer Here."
      ],
      "metadata": {
        "id": "aJRCwT6DYrdO"
      }
    },
    {
      "cell_type": "markdown",
      "source": [
        "##### 2. What is/are the insight(s) found from the chart?"
      ],
      "metadata": {
        "id": "F6T5p64dYrdO"
      }
    },
    {
      "cell_type": "markdown",
      "source": [
        "From this chart, the key insights are:\n",
        "\n",
        "Bird observations in both Forest and Grassland locations are heavily concentrated in the morning hours, particularly between 6 AM and 8 AM.\n",
        "There appears to be a peak in observations around 7 AM for both location types.\n",
        "Consistent with the overall observation counts, the number of observations in Grasslands is significantly higher than in Forests across all observed hours.\n",
        "The temporal pattern of observation activity within the morning seems similar for both habitats, with a clear morning peak.\n"
      ],
      "metadata": {
        "id": "Xx8WAJvtYrdO"
      }
    },
    {
      "cell_type": "markdown",
      "source": [
        "#### Chart - 5"
      ],
      "metadata": {
        "id": "bamQiAODYuh1"
      }
    },
    {
      "cell_type": "code",
      "source": [
        "# Chart - 5 visualization code\n",
        "plt.figure(figsize=(10, 6))\n",
        "sns.countplot(data=df_combined, x='ID_Method', hue='Location_Type')\n",
        "plt.title('Distribution of Bird Observations by ID Method and Location Type')\n",
        "plt.xlabel('Identification Method')\n",
        "plt.ylabel('Number of Observations')\n",
        "plt.show()"
      ],
      "metadata": {
        "id": "TIJwrbroYuh3",
        "collapsed": true
      },
      "execution_count": null,
      "outputs": []
    },
    {
      "cell_type": "markdown",
      "source": [
        "##### 1. Why did you pick the specific chart?"
      ],
      "metadata": {
        "id": "QHF8YVU7Yuh3"
      }
    },
    {
      "cell_type": "markdown",
      "source": [
        "this chart to understand how bird observations are primarily made in each habitat (Forest vs. Grassland). It helps to see if certain identification methods, like 'Singing', 'Calling', or 'Visualization', are more common in one location type over the other. This can provide insights into the behavior of the birds in these habitats or the methodology of data collection."
      ],
      "metadata": {
        "id": "dcxuIMRPYuh3"
      }
    },
    {
      "cell_type": "markdown",
      "source": [
        "##### 2. What is/are the insight(s) found from the chart?"
      ],
      "metadata": {
        "id": "GwzvFGzlYuh3"
      }
    },
    {
      "cell_type": "markdown",
      "source": [
        "From this chart, the key insights are:\n",
        "\n",
        "'Singing' is the most frequent method for identifying birds in both Forest and Grassland locations.\n",
        "The use of all identification methods, particularly 'Singing', is significantly higher in Grassland locations compared to Forest locations. This could indicate that birds are more vocal in grasslands, or that the environment facilitates identification by sound.\n",
        "'Calling' and 'Visualization' are also used, but less frequently than 'Singing'.\n",
        "\n"
      ],
      "metadata": {
        "id": "uyqkiB8YYuh3"
      }
    },
    {
      "cell_type": "markdown",
      "source": [
        "#### Chart - 6"
      ],
      "metadata": {
        "id": "OH-pJp9IphqM"
      }
    },
    {
      "cell_type": "code",
      "source": [
        "# Chart - 6 visualization code\n",
        "plt.figure(figsize=(10, 6))\n",
        "sns.countplot(data=df_combined, x='Sky', hue='Location_Type')\n",
        "plt.title('Distribution of Bird Observations by Sky Condition and Location Type')\n",
        "plt.xlabel('Sky Condition')\n",
        "plt.ylabel('Number of Observations')\n",
        "plt.xticks(rotation=45, ha='right')\n",
        "plt.tight_layout()\n",
        "plt.show()"
      ],
      "metadata": {
        "id": "kuRf4wtuphqN",
        "collapsed": true
      },
      "execution_count": null,
      "outputs": []
    },
    {
      "cell_type": "markdown",
      "source": [
        "##### 1. Why did you pick the specific chart?"
      ],
      "metadata": {
        "id": "bbFf2-_FphqN"
      }
    },
    {
      "cell_type": "markdown",
      "source": [
        "You likely chose this chart to understand how bird observations are primarily made in each habitat (Forest vs. Grassland). It helps to see if certain identification methods, like 'Singing', 'Calling', or 'Visualization', are more common in one location type over the other. This can provide insights into the behavior of the birds in these habitats or the methodology of data collection."
      ],
      "metadata": {
        "id": "loh7H2nzphqN"
      }
    },
    {
      "cell_type": "markdown",
      "source": [
        "##### 2. What is/are the insight(s) found from the chart?"
      ],
      "metadata": {
        "id": "_ouA3fa0phqN"
      }
    },
    {
      "cell_type": "markdown",
      "source": [
        "he key insights regarding the distribution of bird observations by sky condition and location type are:\n",
        "\n",
        "Cloudy/Overcast conditions had the highest number of bird observations in both Forest and Grassland locations.\n",
        "Observations under Mist/Drizzle and Partly Cloudy conditions were also recorded in both habitats, but less frequently than under Cloudy/Overcast skies.\n",
        "Clear or Few Clouds conditions had the lowest number of observations in both locations.\n",
        "Consistent with previous charts, the total number of observations is significantly higher in Grassland locations across all sky conditions compared to Forest locations.\n",
        "The overall pattern of observation frequency across different sky conditions appears somewhat similar for both Forest and Grassland locations, with a peak under Cloudy/Overcast skies.\n"
      ],
      "metadata": {
        "id": "VECbqPI7phqN"
      }
    },
    {
      "cell_type": "markdown",
      "source": [
        "#### Chart - 7"
      ],
      "metadata": {
        "id": "PIIx-8_IphqN"
      }
    },
    {
      "cell_type": "code",
      "source": [
        "# Chart - 7 visualization code\n",
        "plt.figure(figsize=(10, 6))\n",
        "sns.countplot(data=df_combined, x='Wind', hue='Location_Type')\n",
        "plt.title('Distribution of Bird Observations by Wind Condition and Location Type')\n",
        "plt.xlabel('Wind Condition')\n",
        "plt.ylabel('Number of Observations')\n",
        "plt.xticks(rotation=45, ha='right')\n",
        "plt.tight_layout()\n",
        "plt.show()"
      ],
      "metadata": {
        "id": "lqAIGUfyphqO",
        "collapsed": true
      },
      "execution_count": null,
      "outputs": []
    },
    {
      "cell_type": "markdown",
      "source": [
        "##### 1. Why did you pick the specific chart?"
      ],
      "metadata": {
        "id": "t27r6nlMphqO"
      }
    },
    {
      "cell_type": "markdown",
      "source": [
        "the distribution of bird observations based on the wind condition during the observation, separated by location type. Now you can explain why you chose this chart and what insights you can gather from it in the markdown cells below."
      ],
      "metadata": {
        "id": "iv6ro40sphqO"
      }
    },
    {
      "cell_type": "markdown",
      "source": [
        "##### 2. What is/are the insight(s) found from the chart?"
      ],
      "metadata": {
        "id": "r2jJGEOYphqO"
      }
    },
    {
      "cell_type": "markdown",
      "source": [
        "the key insights regarding the distribution of bird observations by wind condition and location type are:\n",
        "\n",
        "The majority of bird observations in both Forest and Grassland locations occurred under 'Light air movement (1-3 mph) smoke drifts' conditions.\n",
        "'Calm (< 1 mph) smoke rises vertically' and 'Light breeze (4-7 mph) wind felt on face' conditions also had a notable number of observations in both habitats, with 'Light breeze' being more frequent than 'Calm'.\n",
        "Observations under 'Gentle breeze (8-12 mph), leaves in motion' conditions were significantly less frequent in both locations.\n",
        "Consistent with previous charts, the total number of observations is significantly higher in Grassland locations across all wind conditions compared to Forest locations.\n",
        "The overall pattern of observation frequency across different wind conditions appears somewhat similar for both Forest and Grassland locations, with a peak under 'Light air movement'. This suggests that bird observation activity might be highest under slight to light wind conditions, or that observers were more active during these conditions.\n"
      ],
      "metadata": {
        "id": "Po6ZPi4hphqO"
      }
    },
    {
      "cell_type": "markdown",
      "source": [
        "#### Chart - 8"
      ],
      "metadata": {
        "id": "BZR9WyysphqO"
      }
    },
    {
      "cell_type": "code",
      "source": [
        "# Chart - 8 visualization code\n",
        "plt.figure(figsize=(8, 6))\n",
        "sns.countplot(data=df_combined, x='PIF_Watchlist_Status', hue='Location_Type')\n",
        "plt.title('Distribution of Bird Observations by PIF Watchlist Status and Location Type')\n",
        "plt.xlabel('PIF Watchlist Status')\n",
        "plt.ylabel('Number of Observations')\n",
        "plt.show()"
      ],
      "metadata": {
        "id": "TdPTWpAVphqO",
        "collapsed": true
      },
      "execution_count": null,
      "outputs": []
    },
    {
      "cell_type": "markdown",
      "source": [
        "##### 1. Why did you pick the specific chart?"
      ],
      "metadata": {
        "id": "jj7wYXLtphqO"
      }
    },
    {
      "cell_type": "markdown",
      "source": [
        "the distribution of bird observations based on their PIF Watchlist Status and see if there are differences between forest and grassland locations."
      ],
      "metadata": {
        "id": "Ob8u6rCTphqO"
      }
    },
    {
      "cell_type": "markdown",
      "source": [
        "##### 2. What is/are the insight(s) found from the chart?"
      ],
      "metadata": {
        "id": "eZrbJ2SmphqO"
      }
    },
    {
      "cell_type": "markdown",
      "source": [
        "the key insights regarding the distribution of bird observations by PIF Watchlist Status and location type:\n",
        "\n",
        "The vast majority of bird observations in both Forest and Grassland locations are for species that are not on the PIF Watchlist (False).\n",
        "Observations for species that are on the PIF Watchlist (True) are very low in comparison to species not on the watchlist.\n",
        "Consistent with previous charts, the total number of observations for both watchlist statuses is significantly higher in Grassland locations compared to Forest locations.\n",
        "While there are observations of watchlist species in both habitats, their overall representation in this dataset is minimal compared to non-watchlist species.\n",
        "This suggests that either the observed area is not a primary habitat for many PIF Watchlist species, or the sampling methodology predominantly recorded more common species not on the watchlist.\n",
        "\n",
        "\n",
        "What can I help you build?\n",
        "0 / 2000\n"
      ],
      "metadata": {
        "id": "mZtgC_hjphqO"
      }
    },
    {
      "cell_type": "markdown",
      "source": [
        "#### Chart - 9"
      ],
      "metadata": {
        "id": "YJ55k-q6phqO"
      }
    },
    {
      "cell_type": "code",
      "source": [
        "# Chart - 9 visualization code\n",
        "plt.figure(figsize=(8, 6))\n",
        "sns.countplot(data=df_combined, x='Regional_Stewardship_Status', hue='Location_Type')\n",
        "plt.title('Distribution of Bird Observations by Regional Stewardship Status and Location Type')\n",
        "plt.xlabel('Regional Stewardship Status')\n",
        "plt.ylabel('Number of Observations')\n",
        "plt.show()"
      ],
      "metadata": {
        "id": "B2aS4O1ophqO"
      },
      "execution_count": null,
      "outputs": []
    },
    {
      "cell_type": "markdown",
      "source": [
        "##### 1. Why did you pick the specific chart?"
      ],
      "metadata": {
        "id": "gCFgpxoyphqP"
      }
    },
    {
      "cell_type": "markdown",
      "source": [
        "this chart to understand the distribution of bird observations based on their Regional Stewardship Status and see if there are differences between forest and grassland locations.\n",
        "\n"
      ],
      "metadata": {
        "id": "TVxDimi2phqP"
      }
    },
    {
      "cell_type": "markdown",
      "source": [
        "##### 2. What is/are the insight(s) found from the chart?"
      ],
      "metadata": {
        "id": "OVtJsKN_phqQ"
      }
    },
    {
      "cell_type": "markdown",
      "source": [
        "the key insights regarding the distribution of bird observations by Regional Stewardship Status and location type:\n",
        "\n",
        "The majority of bird observations in both Forest and Grassland locations are for species that do not have a Regional Stewardship Status (False).\n",
        "However, there is a notable number of observations for species that do have a Regional Stewardship Status (True), particularly in Grassland locations.\n",
        "Consistent with previous charts, the total number of observations for both statuses is significantly higher in Grassland locations compared to Forest locations.\n",
        "While the majority of observations are for species without regional stewardship status, the presence of a substantial number of observations for species with this status, especially in grasslands, indicates that these habitats are important for regionally significant bird populations in this dataset"
      ],
      "metadata": {
        "id": "ngGi97qjphqQ"
      }
    },
    {
      "cell_type": "markdown",
      "source": [
        "#### Chart - 10"
      ],
      "metadata": {
        "id": "U2RJ9gkRphqQ"
      }
    },
    {
      "cell_type": "code",
      "source": [
        "# Chart - 10 visualization code\n",
        "plt.figure(figsize=(10, 6))\n",
        "sns.countplot(data=df_combined, x='Disturbance', hue='Location_Type')\n",
        "plt.title('Distribution of Bird Observations by Disturbance and Location Type')\n",
        "plt.xlabel('Disturbance')\n",
        "plt.ylabel('Number of Observations')\n",
        "plt.xticks(rotation=45, ha='right')\n",
        "plt.tight_layout()\n",
        "plt.show()"
      ],
      "metadata": {
        "id": "GM7a4YP4phqQ",
        "collapsed": true
      },
      "execution_count": null,
      "outputs": []
    },
    {
      "cell_type": "markdown",
      "source": [
        "##### 1. Why did you pick the specific chart?"
      ],
      "metadata": {
        "id": "1M8mcRywphqQ"
      }
    },
    {
      "cell_type": "markdown",
      "source": [
        "We can explore the distribution of bird observations based on the type of disturbance recorded during the observation and see if there are differences between forest and grassland locations."
      ],
      "metadata": {
        "id": "8agQvks0phqQ"
      }
    },
    {
      "cell_type": "markdown",
      "source": [
        "##### 2. What is/are the insight(s) found from the chart?"
      ],
      "metadata": {
        "id": "tgIPom80phqQ"
      }
    },
    {
      "cell_type": "markdown",
      "source": [
        "the key insights regarding the distribution of bird observations by disturbance and location type:\n",
        "\n",
        "The most frequent disturbance levels during bird observations were 'No effect on count' and 'Slight effect on count' in both Forest and Grassland locations.\n",
        "Observations under 'Moderate effect on count' were less frequent, and 'Serious effect on count' had the lowest number of observations.\n",
        "Consistent with previous charts, the total number of observations is significantly higher in Grassland locations across all disturbance levels compared to Forest locations.\n",
        "The relative frequency of observations across different disturbance levels appears somewhat similar for both habitats, with a higher number of observations when there was no or slight disturbance"
      ],
      "metadata": {
        "id": "Qp13pnNzphqQ"
      }
    },
    {
      "cell_type": "markdown",
      "source": [
        "#### Chart - 11"
      ],
      "metadata": {
        "id": "x-EpHcCOp1ci"
      }
    },
    {
      "cell_type": "code",
      "source": [
        "# Chart - 11 visualization code\n",
        "plt.figure(figsize=(10, 6))\n",
        "sns.histplot(data=df_combined, x='Observation_Duration', hue='Location_Type', multiple='stack', bins=20)\n",
        "plt.title('Distribution of Observation Duration by Location Type')\n",
        "plt.xlabel('Observation Duration (minutes)')\n",
        "plt.ylabel('Frequency')\n",
        "plt.show()"
      ],
      "metadata": {
        "id": "mAQTIvtqp1cj"
      },
      "execution_count": null,
      "outputs": []
    },
    {
      "cell_type": "markdown",
      "source": [
        "##### 1. Why did you pick the specific chart?"
      ],
      "metadata": {
        "id": "X_VqEhTip1ck"
      }
    },
    {
      "cell_type": "markdown",
      "source": [
        "this chart to visualize the distribution of the duration of bird observations and compare this distribution between forest and grassland locations. A histogram is a good way to show the frequency of different observation durations. Seeing how these distributions compare between the two habitats can provide insights into the survey methodology or the nature of observations in each environment.\n",
        "\n"
      ],
      "metadata": {
        "id": "-vsMzt_np1ck"
      }
    },
    {
      "cell_type": "markdown",
      "source": [
        "##### 2. What is/are the insight(s) found from the chart?"
      ],
      "metadata": {
        "id": "8zGJKyg5p1ck"
      }
    },
    {
      "cell_type": "markdown",
      "source": [
        " the key insights regarding the distribution of observation duration by location type:\n",
        "\n",
        "The vast majority of bird observations in both Forest and Grassland locations have an observation duration of around 10 minutes.\n",
        "There are very few observations with durations significantly longer than 10 minutes.\n",
        "The distribution of observation durations is heavily concentrated at the 10-minute mark, suggesting a standardized observation period was likely used for most of the data collection in both habitats.\n",
        "While the counts are higher in grasslands (consistent with previous charts), the overall pattern of observation duration distribution appears very similar between Forest and Grassland locations."
      ],
      "metadata": {
        "id": "ZYdMsrqVp1ck"
      }
    },
    {
      "cell_type": "markdown",
      "source": [
        "#### Chart - 14 - Correlation Heatmap"
      ],
      "metadata": {
        "id": "NC_X3p0fY2L0"
      }
    },
    {
      "cell_type": "code",
      "source": [
        "# Correlation Heatmap visualization code\n",
        "# Select only numerical columns for correlation analysis\n",
        "numerical_cols = df_combined.select_dtypes(include=np.number).columns\n",
        "\n",
        "# Calculate the correlation matrix\n",
        "correlation_matrix = df_combined[numerical_cols].corr()\n",
        "\n",
        "# Create a heatmap\n",
        "plt.figure(figsize=(12, 10))\n",
        "sns.heatmap(correlation_matrix, annot=True, cmap='coolwarm', fmt=\".2f\")\n",
        "plt.title('Correlation Heatmap of Numerical Variables')\n",
        "plt.show()"
      ],
      "metadata": {
        "id": "xyC9zolEZNRQ"
      },
      "execution_count": null,
      "outputs": []
    },
    {
      "cell_type": "markdown",
      "source": [
        "##### 1. Why did you pick the specific chart?"
      ],
      "metadata": {
        "id": "UV0SzAkaZNRQ"
      }
    },
    {
      "cell_type": "markdown",
      "source": [
        "The correlation heatmap shows the relationships between the numerical variables in your dataset. Now you can explain why you chose this chart and what insights you can gather from it in the markdown cells below."
      ],
      "metadata": {
        "id": "DVPuT8LYZNRQ"
      }
    },
    {
      "cell_type": "markdown",
      "source": [
        "##### 2. What is/are the insight(s) found from the chart?"
      ],
      "metadata": {
        "id": "22aHeOlLveiV"
      }
    },
    {
      "cell_type": "markdown",
      "source": [
        "the correlation heatmap, here are some key insights:\n",
        "\n",
        "There is a very strong positive correlation between 'Start_Hour' and 'End_Hour' (correlation coefficient close to 1), which is expected as observation periods typically start and end within a relatively short timeframe on the same day.\n",
        "There is a strong negative correlation between 'Temperature' and 'Humidity' (correlation coefficient around -0.72), indicating that as temperature increases, humidity tends to decrease, and vice versa. This is a common meteorological relationship.\n",
        "There is a moderate positive correlation between 'AcceptedTSN' and 'NPSTaxonCode' (correlation coefficient around 0.76) and between 'AcceptedTSN' and 'TaxonCode' (correlation coefficient around 0.56). This is expected as these are different taxonomic identification codes for the same species, and they should be related.\n",
        "'Temperature' shows a moderate positive correlation with 'Start_Hour' and 'End_Hour' (around 0.71), suggesting that later start and end times for observations might be associated with higher temperatures.\n",
        "'Humidity' shows a moderate negative correlation with 'Start_Hour' and 'End_Hour' (around -0.56 and -0.55), suggesting that earlier start and end times might be associated with higher humidity.\n",
        "'Visit' shows weak correlations with most other numerical variables, suggesting the visit number itself is not strongly linearly related to environmental conditions or taxonomic codes.\n",
        "'Observation_Duration' shows very weak correlations with most other numerical variables, consistent with the earlier observation that most observations have a standardized duration.\n",
        "Overall, the heatmap highlights expected relationships between time and environmental factors, and between different taxonomic identifiers. It also suggests that 'Visit' and 'Observation_Duration' are relatively independent of the other numerical variables in terms of linear correlation."
      ],
      "metadata": {
        "id": "bfSqtnDqZNRR"
      }
    },
    {
      "cell_type": "markdown",
      "source": [
        "#### Chart - 15 - Pair Plot"
      ],
      "metadata": {
        "id": "q29F0dvdveiT"
      }
    },
    {
      "cell_type": "code",
      "source": [
        "# Pair Plot visualization code\n",
        "# Select a subset of numerical columns for the pair plot due to the number of columns\n",
        "numerical_cols_subset = ['Visit', 'Temperature', 'Humidity', 'Observation_Duration', 'Start_Hour', 'Location_Type']\n",
        "\n",
        "# Create a pair plot\n",
        "sns.pairplot(data=df_combined[numerical_cols_subset], hue='Location_Type')\n",
        "plt.suptitle('Pair Plot of Selected Numerical Variables by Location Type', y=1.02) # Add a title for the plot\n",
        "plt.show()"
      ],
      "metadata": {
        "id": "o58-TEIhveiU"
      },
      "execution_count": null,
      "outputs": []
    },
    {
      "cell_type": "markdown",
      "source": [
        "##### 1. Why did you pick the specific chart?"
      ],
      "metadata": {
        "id": "EXh0U9oCveiU"
      }
    },
    {
      "cell_type": "markdown",
      "source": [
        "the Pair Plot to visualize the relationships between several numerical variables and see how these relationships and the distribution of each variable differ between Forest and Grassland locations. It's a comprehensive way to get an overview of pairwise correlations and individual variable distributions in one visualization, helping to identify potential patterns or differences based on habitat type.\n",
        "\n"
      ],
      "metadata": {
        "id": "eMmPjTByveiU"
      }
    },
    {
      "cell_type": "markdown",
      "source": [
        "####Types of Analysis"
      ],
      "metadata": {
        "id": "n_bRxSFwSMFi"
      }
    },
    {
      "cell_type": "markdown",
      "source": [
        "1. Temporal Analysis\n",
        "\n",
        "**Seasonal Trends: ** Analyze the Date and Year columns to detect patterns in bird sightings across different seasons or years.\n",
        "\n",
        "**Observation Time: **Study the Start_Time and End_Time to determine\n",
        "if specific time windows correlate with higher bird activity."
      ],
      "metadata": {
        "id": "weo4MxTiSP3q"
      }
    },
    {
      "cell_type": "code",
      "source": [
        "# Extract month from the Date column\n",
        "df_combined['Month'] = df_combined['Date'].dt.month\n",
        "\n",
        "# Map month numbers to month names for better readability in plots\n",
        "month_names = {\n",
        "    1: 'Jan', 2: 'Feb', 3: 'Mar', 4: 'Apr', 5: 'May', 6: 'Jun',\n",
        "    7: 'Jul', 8: 'Aug', 9: 'Sep', 10: 'Oct', 11: 'Nov', 12: 'Dec'\n",
        "}\n",
        "df_combined['Month_Name'] = df_combined['Month'].map(month_names)\n",
        "\n",
        "# Visualize the distribution of observations by month and location type\n",
        "plt.figure(figsize=(12, 6))\n",
        "sns.countplot(data=df_combined, x='Month_Name', hue='Location_Type', order=month_names.values())\n",
        "plt.title('Distribution of Bird Observations by Month and Location Type')\n",
        "plt.xlabel('Month')\n",
        "plt.ylabel('Number of Observations')\n",
        "plt.show()"
      ],
      "metadata": {
        "collapsed": true,
        "id": "CaAKZxeXTcD0"
      },
      "execution_count": null,
      "outputs": []
    },
    {
      "cell_type": "markdown",
      "source": [
        "2. Spatial Analysis\n",
        "Location Insights: Group data by Location_Type (e.g., Grassland) to identify biodiversity hotspots.\n",
        "Plot-Level Analysis: Compare observations across different Plot_Name to see which plots attract more species or specific kinds of birds.\n"
      ],
      "metadata": {
        "id": "h_2i5qm8SUkH"
      }
    },
    {
      "cell_type": "code",
      "source": [
        "# Plot-Level Analysis: Count observations per plot by Location Type\n",
        "plot_counts = df_combined.groupby(['Location_Type', 'Plot_Name']).size().reset_index(name='Observation_Count')\n",
        "\n",
        "# Get top 10 plots overall (or adjust as needed)\n",
        "top_plots = plot_counts.sort_values(by='Observation_Count', ascending=False).head(10)\n",
        "\n",
        "# Visualize the top plots\n",
        "plt.figure(figsize=(12, 6))\n",
        "sns.barplot(data=top_plots, x='Plot_Name', y='Observation_Count', hue='Location_Type', dodge=False)\n",
        "plt.title('Top 10 Plots by Number of Bird Observations and Location Type')\n",
        "plt.xlabel('Plot Name')\n",
        "plt.ylabel('Number of Observations')\n",
        "plt.xticks(rotation=45, ha='right')\n",
        "plt.tight_layout()\n",
        "plt.show()"
      ],
      "metadata": {
        "collapsed": true,
        "id": "-DQgdNd_VcIY"
      },
      "execution_count": null,
      "outputs": []
    },
    {
      "cell_type": "code",
      "source": [
        "# Species Analysis: Count unique species per Location Type\n",
        "unique_species_counts = df_combined.groupby('Location_Type')['Scientific_Name'].nunique().reset_index(name='Unique_Species_Count')\n",
        "\n",
        "# Visualize the number of unique species by Location Type\n",
        "plt.figure(figsize=(8, 6))\n",
        "sns.barplot(data=unique_species_counts, x='Location_Type', y='Unique_Species_Count')\n",
        "plt.title('Number of Unique Bird Species by Location Type')\n",
        "plt.xlabel('Location Type')\n",
        "plt.ylabel('Number of Unique Species')\n",
        "plt.show()"
      ],
      "metadata": {
        "id": "LLMtzn9fVrcG"
      },
      "execution_count": null,
      "outputs": []
    },
    {
      "cell_type": "markdown",
      "source": [
        "4. Environmental Conditions\n",
        "Weather Correlation: Explore how Temperature, Humidity, Sky, and Wind impact observations, such as the number of birds or their distances.\n",
        "Disturbance Effect: Assess the impact of Disturbance (e.g., slight effect) on bird sightings."
      ],
      "metadata": {
        "id": "ysqCg9TOXu-q"
      }
    },
    {
      "cell_type": "code",
      "source": [
        "# Environmental Conditions Analysis: Distribution of Temperature by Location Type\n",
        "plt.figure(figsize=(8, 6))\n",
        "sns.boxplot(data=df_combined, x='Location_Type', y='Temperature')\n",
        "plt.title('Distribution of Temperature by Location Type')\n",
        "plt.xlabel('Location Type')\n",
        "plt.ylabel('Temperature (°C)')\n",
        "plt.show()\n",
        "\n",
        "# Environmental Conditions Analysis: Distribution of Humidity by Location Type\n",
        "plt.figure(figsize=(8, 6))\n",
        "sns.boxplot(data=df_combined, x='Location_Type', y='Humidity')\n",
        "plt.title('Distribution of Humidity by Location Type')\n",
        "plt.xlabel('Location Type')\n",
        "plt.ylabel('Humidity (%)')\n",
        "plt.show()"
      ],
      "metadata": {
        "id": "0B_WmzTGX4C9"
      },
      "execution_count": null,
      "outputs": []
    },
    {
      "cell_type": "markdown",
      "source": [
        "5. Distance and Behavior\n",
        "Distance Analysis: Evaluate the Distance column to identify species typically observed closer or farther from the observer.\n",
        "Flyover Frequency: Examine the Flyover_Observed column to detect trends in bird behavior during observation."
      ],
      "metadata": {
        "id": "IlCZLfNUYC40"
      }
    },
    {
      "cell_type": "code",
      "source": [
        "# Distance and Behavior Analysis: Distribution of Observations by Distance and Location Type\n",
        "plt.figure(figsize=(10, 6))\n",
        "sns.countplot(data=df_combined, x='Distance', hue='Location_Type')\n",
        "plt.title('Distribution of Bird Observations by Distance and Location Type')\n",
        "plt.xlabel('Distance')\n",
        "plt.ylabel('Number of Observations')\n",
        "plt.show()"
      ],
      "metadata": {
        "id": "nXv2WTPlYFBb"
      },
      "execution_count": null,
      "outputs": []
    },
    {
      "cell_type": "markdown",
      "source": [
        "6. Observer Trends\n",
        "Observer Bias: Analyze data by Observer to check if specific individuals report more observations or certain species.\n",
        "Visit Patterns: Evaluate the Visit column to see how repeated visits affect species count or diversity."
      ],
      "metadata": {
        "id": "POXid1K9YmdI"
      }
    },
    {
      "cell_type": "code",
      "source": [
        "# Visit Patterns Analysis: Count observations per Visit by Location Type\n",
        "visit_counts = df_combined.groupby(['Location_Type', 'Visit']).size().reset_index(name='Observation_Count')\n",
        "\n",
        "# Visualize the distribution of observations by Visit and Location Type\n",
        "plt.figure(figsize=(8, 6))\n",
        "sns.barplot(data=visit_counts, x='Visit', y='Observation_Count', hue='Location_Type')\n",
        "plt.title('Distribution of Bird Observations by Visit and Location Type')\n",
        "plt.xlabel('Visit Number')\n",
        "plt.ylabel('Number of Observations')\n",
        "plt.show()"
      ],
      "metadata": {
        "id": "GGqQ6nScYpoZ"
      },
      "execution_count": null,
      "outputs": []
    },
    {
      "cell_type": "markdown",
      "source": [
        "7. Conservation Insights\n",
        "\n",
        "\n",
        "Watchlist Trends: Use the PIF_Watchlist_Status and Regional_Stewardship_Status to identify trends in species that are at risk or require conservation focus.\n",
        "\n",
        "\n",
        "AOU Code Patterns: Study the distribution of species based on their AOU_Code to correlate with regional or national conservation priorities."
      ],
      "metadata": {
        "id": "Mg7yXSPoY-4T"
      }
    },
    {
      "cell_type": "code",
      "source": [
        "# Conservation Insights: Filter for species on PIF Watchlist or with Regional Stewardship Status\n",
        "watchlist_species_df = df_combined[(df_combined['PIF_Watchlist_Status'] == True) | (df_combined['Regional_Stewardship_Status'] == True)]\n",
        "\n",
        "# Display the number of observations for watchlist species by location type\n",
        "print(\"Number of observations for Watchlist and Regional Stewardship species by Location Type:\")\n",
        "display(watchlist_species_df.groupby('Location_Type').size().reset_index(name='Observation_Count'))\n",
        "\n",
        "# Display the most frequent species on the watchlist or with regional stewardship status\n",
        "print(\"\\nTop 10 most observed Watchlist and Regional Stewardship species:\")\n",
        "display(watchlist_species_df['Common_Name'].value_counts().head(10).reset_index(name='Observation_Count'))"
      ],
      "metadata": {
        "collapsed": true,
        "id": "ytwnaN5WZCsw"
      },
      "execution_count": null,
      "outputs": []
    },
    {
      "cell_type": "markdown",
      "source": [
        "## **5. Solution to Business Objective**"
      ],
      "metadata": {
        "id": "JcMwzZxoAimU"
      }
    },
    {
      "cell_type": "markdown",
      "source": [
        "#### What do you suggest the client to achieve Business Objective ?\n"
      ],
      "metadata": {
        "id": "8G2x9gOozGDZ"
      }
    },
    {
      "cell_type": "markdown",
      "source": [
        "### Data Analysis Key Findings\n",
        "\n",
        "* The combined dataset initially contained 3921 rows and 31 columns, which was the sum of the rows from the individual forest and grassland datasets.\n",
        "* Before handling missing values, the 'Sub\\_Unit\\_Code' column had 100% missing values. 'Distance' had 8.54% missing values, 'Sex' had 5.64% missing values, and 'AcceptedTSN' had 0.54% missing values.\n",
        "* 458 duplicate rows were identified and removed from the combined dataset.\n",
        "* The 'Start\\_Time' and 'End\\_Time' columns were successfully converted to datetime objects.\n",
        "* A new column 'Observation\\_Duration' was created, representing the duration of each observation in minutes.\n",
        "* New columns 'Start\\_Hour' and 'End\\_Hour' were created, extracting the hour of the day from 'Start\\_Time' and 'End\\_Time', respectively.\n",
        "* The column 'Initial\\_Three\\_Min\\_Cnt' was renamed to 'Initial\\_Three\\_Minute\\_Count' for improved clarity.\n",
        "\n",
        "### Insights or Next Steps\n",
        "\n",
        "* The high percentage of missing values in 'Sub\\_Unit\\_Code' justified its removal. For other columns with fewer missing values ('Distance', 'Sex', 'AcceptedTSN'), imputation with mode or a placeholder value (0 for 'AcceptedTSN') was a reasonable approach, but the impact of this imputation on downstream analysis should be considered.\n",
        "* The successful handling of missing values and duplicate rows, along with the creation of new time-based features and the renaming of a column, prepares the dataset for further analysis, such as exploring the distribution of bird species, identifying patterns in observation durations, or analyzing the influence of time of day on observations.\n",
        "Answer Here."
      ],
      "metadata": {
        "id": "pASKb0qOza21"
      }
    },
    {
      "cell_type": "markdown",
      "metadata": {
        "id": "b8eae94b"
      },
      "source": [
        "#  Other Insight Task\n",
        "Analyze the provided bird observation data from \"/content/Bird_Monitoring_Data_FOREST_Filled.xlsx\" and \"/content/Bird_Monitoring_Data_GRASSLAND_Filled_All_Missing_NA.xlsx\" to identify high-activity regions and seasons for specific bird species."
      ]
    },
    {
      "cell_type": "markdown",
      "metadata": {
        "id": "0d278c8f"
      },
      "source": [
        "## Select species\n",
        "\n",
        "### Subtask:\n",
        "Select one or more specific bird species for the analysis from the `df_combined` dataframe.\n"
      ]
    },
    {
      "cell_type": "markdown",
      "metadata": {
        "id": "a58ef972"
      },
      "source": [
        "**Reasoning**:\n",
        "To select a specific bird species for analysis, I will first display the unique common names available in the dataset. Then, I will choose \"Indigo Bunting\" as the species of interest, assign its name to a variable called `selected_species`, and print the variable to confirm the selection. This completes all the steps in the subtask.\n",
        "\n"
      ]
    },
    {
      "cell_type": "code",
      "metadata": {
        "id": "f64184b3"
      },
      "source": [
        "# Display unique bird species\n",
        "print(\"Available bird species:\")\n",
        "print(df_combined['Common_Name'].unique())\n",
        "\n",
        "# Select a specific bird species for analysis\n",
        "selected_species = 'Indigo Bunting'\n",
        "\n",
        "# Print the selected species to confirm\n",
        "print(f\"\\nSelected species for analysis: {selected_species}\")"
      ],
      "execution_count": null,
      "outputs": []
    },
    {
      "cell_type": "markdown",
      "metadata": {
        "id": "96cfc49d"
      },
      "source": [
        "## Filter data\n",
        "\n",
        "### Subtask:\n",
        "Filter the combined dataset to include only observations for the selected species.\n"
      ]
    },
    {
      "cell_type": "markdown",
      "metadata": {
        "id": "d4e130ee"
      },
      "source": [
        "**Reasoning**:\n",
        "Filter the combined dataset to include only observations for the selected species and display the result.\n",
        "\n"
      ]
    },
    {
      "cell_type": "code",
      "metadata": {
        "id": "41a48f04"
      },
      "source": [
        "# Create a new DataFrame with observations only for the selected species\n",
        "df_species = df_combined[df_combined['Common_Name'] == selected_species].copy()\n",
        "\n",
        "# Display the first few rows of the filtered DataFrame\n",
        "display(df_species.head())\n",
        "\n",
        "# Display the shape of the filtered DataFrame\n",
        "print(\"Shape of the filtered dataframe (selected species):\", df_species.shape)"
      ],
      "execution_count": null,
      "outputs": []
    },
    {
      "cell_type": "markdown",
      "metadata": {
        "id": "0bb08db8"
      },
      "source": [
        "## Define seasons\n",
        "\n",
        "### Subtask:\n",
        "Create a 'Season' column in the filtered dataset based on the 'Month' column.\n"
      ]
    },
    {
      "cell_type": "markdown",
      "metadata": {
        "id": "7bdf2ffb"
      },
      "source": [
        "**Reasoning**:\n",
        "Define a function to map months to seasons and apply it to the filtered dataframe.\n",
        "\n"
      ]
    },
    {
      "cell_type": "code",
      "metadata": {
        "id": "e6453ba8"
      },
      "source": [
        "def get_season(month):\n",
        "    if 3 <= month <= 5:\n",
        "        return 'Spring'\n",
        "    elif 6 <= month <= 8:\n",
        "        return 'Summer'\n",
        "    elif 9 <= month <= 11:\n",
        "        return 'Fall'\n",
        "    else:\n",
        "        return 'Winter'\n",
        "\n",
        "df_species['Season'] = df_species['Month'].apply(get_season)\n",
        "\n",
        "# Display the unique values in the new 'Season' column\n",
        "print(\"Unique values in the 'Season' column:\")\n",
        "print(df_species['Season'].unique())"
      ],
      "execution_count": null,
      "outputs": []
    },
    {
      "cell_type": "markdown",
      "metadata": {
        "id": "706e3606"
      },
      "source": [
        "## Group by region and season\n",
        "\n",
        "### Subtask:\n",
        "Group the filtered data by 'Plot_Name' and 'Season'.\n"
      ]
    },
    {
      "cell_type": "markdown",
      "metadata": {
        "id": "cd517048"
      },
      "source": [
        "**Reasoning**:\n",
        "Group the filtered data by 'Plot_Name' and 'Season' and calculate the number of observations, then reset the index and display the first few rows.\n",
        "\n"
      ]
    },
    {
      "cell_type": "code",
      "metadata": {
        "id": "01ddfb39"
      },
      "source": [
        "# Group by 'Plot_Name' and 'Season' and count observations\n",
        "seasonal_plot_counts = df_species.groupby(['Plot_Name', 'Season']).size().reset_index(name='Observation_Count')\n",
        "\n",
        "# Display the first few rows of the resulting DataFrame\n",
        "display(seasonal_plot_counts.head())"
      ],
      "execution_count": null,
      "outputs": []
    },
    {
      "cell_type": "markdown",
      "metadata": {
        "id": "ba8e4adc"
      },
      "source": [
        "## Identify high activity\n",
        "\n",
        "### Subtask:\n",
        "Identify the regions and seasons with the highest observation counts for the selected species.\n"
      ]
    },
    {
      "cell_type": "markdown",
      "metadata": {
        "id": "3df1d948"
      },
      "source": [
        "**Reasoning**:\n",
        "Sort the seasonal_plot_counts DataFrame and display the top rows to identify regions and seasons with the highest observation counts.\n",
        "\n"
      ]
    },
    {
      "cell_type": "code",
      "metadata": {
        "id": "6ea64a38"
      },
      "source": [
        "# Sort the DataFrame by 'Observation_Count' in descending order\n",
        "seasonal_plot_counts_sorted = seasonal_plot_counts.sort_values(by='Observation_Count', ascending=False)\n",
        "\n",
        "# Display the top 10 rows\n",
        "top_n = 10\n",
        "print(f\"Top {top_n} regions and seasons with the highest observation counts:\")\n",
        "display(seasonal_plot_counts_sorted.head(top_n))"
      ],
      "execution_count": null,
      "outputs": []
    },
    {
      "cell_type": "markdown",
      "metadata": {
        "id": "a5733844"
      },
      "source": [
        "## Visualize results\n",
        "\n",
        "### Subtask:\n",
        "Visualize the top regions and seasons with the highest observation counts for the selected species.\n"
      ]
    },
    {
      "cell_type": "markdown",
      "metadata": {
        "id": "77198872"
      },
      "source": [
        "**Reasoning**:\n",
        "Create a bar plot to visualize the top regions and seasons with the highest observation counts for the selected species.\n",
        "\n"
      ]
    },
    {
      "cell_type": "code",
      "metadata": {
        "id": "c9eb6473"
      },
      "source": [
        "# Create a bar plot for the top regions and seasons\n",
        "plt.figure(figsize=(12, 6))\n",
        "sns.barplot(data=seasonal_plot_counts_sorted.head(top_n), x='Plot_Name', y='Observation_Count', hue='Season', dodge=False)\n",
        "plt.title('Top Regions and Seasons with Highest Bird Observation Counts')\n",
        "plt.xlabel('Plot Name')\n",
        "plt.ylabel('Number of Observations')\n",
        "plt.xticks(rotation=45, ha='right')\n",
        "plt.tight_layout()\n",
        "plt.show()"
      ],
      "execution_count": null,
      "outputs": []
    },
    {
      "cell_type": "markdown",
      "source": [
        "\n",
        "Uncover the influence of environmental factors on species behavior and activity"
      ],
      "metadata": {
        "id": "r05ZqiFldYRJ"
      }
    },
    {
      "cell_type": "code",
      "source": [
        "# Analyze the influence of Sky condition on ID Method by Location Type\n",
        "plt.figure(figsize=(12, 6))\n",
        "sns.countplot(data=df_combined, x='Sky', hue='ID_Method', palette='viridis') # Removed col='Location_Type'\n",
        "plt.suptitle('Distribution of ID Methods by Sky Condition (All Locations)', y=1.02) # Updated title\n",
        "plt.xlabel('Sky Condition')\n",
        "plt.ylabel('Number of Observations')\n",
        "plt.xticks(rotation=45, ha='right')\n",
        "plt.tight_layout()\n",
        "plt.show()\n",
        "\n",
        "# To analyze by Location Type, we can create separate plots or use FacetGrid if needed for comparison.\n",
        "# For now, let's simplify and show the overall distribution."
      ],
      "metadata": {
        "id": "-NSyJxnOdmGA"
      },
      "execution_count": null,
      "outputs": []
    },
    {
      "cell_type": "markdown",
      "source": [
        "# **Conclusion**"
      ],
      "metadata": {
        "id": "fpQsAnLPcc3R"
      }
    },
    {
      "cell_type": "markdown",
      "source": [
        "Based on the analysis of the combined forest and grassland bird observation data, several key insights were found:\n",
        "\n",
        "Observation Distribution Imbalance: There is a significant imbalance in the dataset, with substantially more bird observations recorded in grassland locations compared to forest locations. This difference should be considered when interpreting results and making comparisons between the two habitats.\n",
        "Habitat Preferences of Common Species: The top 10 most observed bird species overall are predominantly found in grassland locations, suggesting that these common species may have a strong preference for grassland habitats in this dataset.\n",
        "Temporal Patterns: Bird observations in both forest and grassland locations are heavily concentrated in the morning hours, with a peak around 7 AM, indicating consistent observation timing or higher bird activity during this period in both habitats.\n",
        "Environmental Influences: While a strong linear relationship between temperature and visit count was not evident, the distribution of observations across different temperature ranges appears to vary slightly by location type. Similarly, observations were most frequent under cloudy/overcast and light wind conditions in both habitats.\n",
        "Identification Methods: 'Singing' was the most frequent identification method in both habitats, with higher overall usage in grasslands, potentially indicating higher vocal activity or easier auditory detection in this environment.\n",
        "Conservation Status: The majority of observed species are not on the PIF Watchlist, although a notable number of observations for species with Regional Stewardship Status were recorded, particularly in grasslands, highlighting the importance of these areas for regionally significant birds in this dataset.\n",
        "Observation Methodology: The consistent observation duration of around 10 minutes in both habitats suggests a standardized data collection protocol.\n",
        "In conclusion, the analysis highlights distinct patterns in bird observations between forest and grassland ecosystems within this dataset, particularly regarding the volume of observations, the prevalence of common species, and the influence of environmental factors and observation methods. While the data provides valuable insights into habitat use and observation conditions, the imbalance in observation counts between the two location types is a key factor to consider for future analyses and conservation strategies. Further investigation into species-specific habitat preferences and the impact of remaining missing data could provide a more nuanced understanding."
      ],
      "metadata": {
        "id": "HQa1uCHccrg1"
      }
    },
    {
      "cell_type": "markdown",
      "source": [
        "## Summary:\n",
        "\n",
        "### Data Analysis Key Findings\n",
        "\n",
        "*   The analysis focused on the 'Indigo Bunting' species.\n",
        "*   Observations for 'Indigo Bunting' were found only in the Spring and Summer seasons within the provided datasets.\n",
        "*   The top 10 regions and seasons with the highest observation counts for 'Indigo Bunting' were identified.\n",
        "*   'ANTI-0008' in Summer had the highest single observation count at 4.\n",
        "*   Several plots, such as 'ANTI-0007', 'ANTI-0008', 'GRASS-0001', 'GRASS-0002', 'GRASS-0004', 'GRASS-0005', and 'GRASS-0008', appeared in the top 10, indicating higher activity in these regions across Spring and Summer.\n",
        "\n",
        "### Insights or Next Steps\n",
        "\n",
        "*   Focus future monitoring efforts for Indigo Buntings on the identified high-activity plots during the Spring and Summer seasons to maximize observation opportunities.\n",
        "*   Investigate environmental factors or habitat characteristics of the top performing plots to understand why they support higher Indigo Bunting activity compared to other regions.\n"
      ],
      "metadata": {
        "id": "XqX8S-17eX2m"
      }
    },
    {
      "cell_type": "markdown",
      "source": [
        "### ***Hurrah! You have successfully completed your EDA Capstone Project !!!***"
      ],
      "metadata": {
        "id": "gIfDvo9L0UH2"
      }
    },
    {
      "cell_type": "code",
      "metadata": {
        "id": "6379a886"
      },
      "source": [
        "print(df_combined.columns)"
      ],
      "execution_count": null,
      "outputs": []
    },
    {
      "cell_type": "code",
      "metadata": {
        "id": "08e4de14"
      },
      "source": [
        "# Convert 'Start_Time' and 'End_Time' to datetime objects\n",
        "# Using errors='coerce' to turn invalid parsing into NaT\n",
        "df_combined['Start_Time'] = pd.to_datetime(df_combined['Start_Time'], errors='coerce')\n",
        "df_combined['End_Time'] = pd.to_datetime(df_combined['End_Time'], errors='coerce')\n",
        "\n",
        "# Create 'Observation_Duration' column\n",
        "# Only calculate duration for valid datetime entries\n",
        "df_combined['Observation_Duration'] = (df_combined['End_Time'] - df_combined['Start_Time']).dt.total_seconds() / 60\n",
        "\n",
        "# Extract hour of the day\n",
        "df_combined['Start_Hour'] = df_combined['Start_Time'].dt.hour\n",
        "df_combined['End_Hour'] = df_combined['End_Time'].dt.hour\n",
        "\n",
        "# Display the data types of the new columns\n",
        "print(\"\\nData types of new columns:\")\n",
        "print(df_combined[['Start_Time', 'End_Time', 'Observation_Duration', 'Start_Hour', 'End_Hour']].dtypes)\n",
        "\n",
        "# Display the first few rows with the new columns\n",
        "display(df_combined[['Start_Time', 'End_Time', 'Observation_Duration', 'Start_Hour', 'End_Hour']].head())"
      ],
      "execution_count": null,
      "outputs": []
    }
  ]
}